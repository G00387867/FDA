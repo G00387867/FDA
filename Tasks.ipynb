{
 "cells": [
  {
   "cell_type": "markdown",
   "metadata": {},
   "source": [
    "# Tasks\n",
    "\n",
    "These are my solutions to the Tasks assessment. The author is Adam S. (G00387867@gmit.ie)."
   ]
  },
  {
   "cell_type": "markdown",
   "metadata": {},
   "source": [
    "***"
   ]
  },
  {
   "cell_type": "markdown",
   "metadata": {},
   "source": [
    "### Task 1: Counts\n",
    "\n",
    "A Python function that takes a list as input and returns a dictionary of unique items in the list as keys and the number of times (frequency) each item appears as values.\n",
    "\n",
    "\n",
    "[1]  https://www.geeksforgeeks.org/counting-the-frequencies-in-a-list-using-dictionary-in-python/\n",
    "\n",
    "[2] https://stackoverflow.com/questions/3496518/using-a-dictionary-to-count-the-items-in-a-list"
   ]
  },
  {
   "cell_type": "code",
   "execution_count": 1,
   "metadata": {},
   "outputs": [
    {
     "data": {
      "text/plain": [
       "{1: 3, 5: 2, 3: 3, 4: 2, 2: 3, 'A': 2, 'B': 1, 'a': 1, 'red': 1, 25.0: 1}"
      ]
     },
     "execution_count": 1,
     "metadata": {},
     "output_type": "execute_result"
    }
   ],
   "source": [
    "# [2]\n",
    "\n",
    "items = [1, 1, 5, 5, 3, 1, 3, 3, 4, 4, 2, 2, 2, \"A\", \"A\", \"B\", \"a\", \"red\", 25.0] \n",
    "\n",
    "counts = dict()\n",
    "for i in items:\n",
    "  counts[i] = counts.get(i, 0) + 1\n",
    "\n",
    "counts"
   ]
  },
  {
   "cell_type": "code",
   "execution_count": 2,
   "metadata": {},
   "outputs": [
    {
     "name": "stdout",
     "output_type": "stream",
     "text": [
      "1  : 3 \n",
      "5  : 2 \n",
      "3  : 3 \n",
      "4  : 2 \n",
      "2  : 3 \n",
      "A  : 1 \n",
      "red  : 1 \n",
      "25.0  : 1 \n"
     ]
    }
   ],
   "source": [
    "def Count(my_list): \n",
    "\n",
    "  # Creating an empty dictionary \n",
    "  freq = {} \n",
    "  for item in my_list: \n",
    "    if (item in freq): \n",
    "      freq[item] += 1\n",
    "    else: \n",
    "      freq[item] = 1\n",
    "\n",
    "  for key, value in freq.items(): \n",
    "    print(\"%s  : %d \"%(key, value))\n",
    "  \n",
    "\n",
    "my_list =  [1, 1, 5, 5, 3, 1, 3, 3, 4, 4, 2, 2, 2, \"A\", \"red\", 25.0]\n",
    "\n",
    "Count(my_list)"
   ]
  },
  {
   "cell_type": "markdown",
   "metadata": {},
   "source": [
    "***\n",
    "### Task 2: Dice roller\n",
    "\n",
    "[1] stack overflow; https://stackoverflow.com/questions/60343980/rolling-2-dice-1000-times-and-counting-the-number-of-times-the-sum-of-the-two-di\n",
    "\n",
    "[2] reddit;  https://www.reddit.com/r/learnpython/comments/55zdez/putting_outcomes_of_dice_roll_in_dictionary/\n",
    "\n",
    "[3] AoPS Online;  https://artofproblemsolving.com/wiki/index.php/Basic_Programming_With_Python"
   ]
  },
  {
   "cell_type": "code",
   "execution_count": 3,
   "metadata": {},
   "outputs": [
    {
     "name": "stdout",
     "output_type": "stream",
     "text": [
      "defaultdict(<class 'int'>, {8: 150, 7: 161, 10: 85, 5: 99, 12: 43, 4: 82, 9: 94, 6: 137, 11: 62, 3: 59, 2: 28})\n"
     ]
    }
   ],
   "source": [
    "# [1]\n",
    "\n",
    "from collections import defaultdict\n",
    "from random import randint\n",
    "\n",
    "# Roll the two dice how many times?\n",
    "n = 1000\n",
    "\n",
    "# Create a dictionary to store the results\n",
    "results = defaultdict(int)\n",
    "\n",
    "# Loop n times\n",
    "for _ in range(n):\n",
    "    # Get random numbers for the two dice\n",
    "    die_1 = randint(1, 6)\n",
    "    die_2 = randint(1, 6)\n",
    "    # Increase the corresponding result by 1\n",
    "    results[die_1 + die_2] += 1\n",
    "\n",
    "# Print results\n",
    "print(results)"
   ]
  },
  {
   "cell_type": "code",
   "execution_count": 4,
   "metadata": {},
   "outputs": [
    {
     "data": {
      "text/plain": [
       "defaultdict(int,\n",
       "            {7: 102,\n",
       "             9: 87,\n",
       "             5: 87,\n",
       "             6: 86,\n",
       "             12: 99,\n",
       "             8: 97,\n",
       "             11: 101,\n",
       "             3: 82,\n",
       "             10: 93,\n",
       "             2: 89,\n",
       "             4: 77})"
      ]
     },
     "execution_count": 4,
     "metadata": {},
     "output_type": "execute_result"
    }
   ],
   "source": [
    "# [2] \n",
    "# we have two dices, k= 2\n",
    "\n",
    "import collections\n",
    "import random\n",
    "\n",
    "\n",
    "def diceroll(rolls, sides):\n",
    "    dice = defaultdict(int)\n",
    "    for x in range(rolls):\n",
    "        dice[random.randint(2, sides)] += 1\n",
    "    return(dice)\n",
    "diceroll(1000, 12)"
   ]
  },
  {
   "cell_type": "markdown",
   "metadata": {},
   "source": [
    "***"
   ]
  },
  {
   "cell_type": "markdown",
   "metadata": {},
   "source": [
    "### Task 3: binomial distribution\n",
    "\n",
    "Definition of binomial distribution: the binomial distribution is the probability distribution of a sequence of experiments where each experiment produces a binary outcome (in this exapmle, flipping a coin), and where each of the outcomes is independent of all the others.[2]\n",
    "\n",
    "\n",
    "[1] https://numpy.org/doc/stable/reference/random/generated/numpy.random.binomial.html\n",
    "\n",
    "[2] towards data science ; https://towardsdatascience.com/fun-with-the-binomial-distribution-96a5ecabf65b"
   ]
  },
  {
   "cell_type": "code",
   "execution_count": 5,
   "metadata": {
    "scrolled": true
   },
   "outputs": [
    {
     "data": {
      "text/plain": [
       "array([53, 60, 50, 39, 50, 55, 48, 49, 46, 47, 58, 42, 49, 43, 45, 56, 57,\n",
       "       53, 34, 57, 55, 43, 46, 49, 59, 44, 43, 57, 49, 54, 46, 52, 52, 48,\n",
       "       55, 50, 47, 47, 53, 47, 60, 50, 51, 56, 54, 49, 53, 55, 50, 49, 51,\n",
       "       61, 52, 51, 51, 53, 49, 49, 47, 57, 48, 50, 42, 46, 55, 53, 50, 56,\n",
       "       53, 56, 46, 33, 51, 49, 49, 54, 53, 62, 52, 60, 53, 53, 39, 45, 43,\n",
       "       49, 45, 51, 52, 45, 47, 54, 55, 48, 42, 47, 49, 44, 50, 54, 55, 51,\n",
       "       54, 54, 49, 54, 56, 49, 54, 48, 59, 54, 52, 45, 46, 43, 49, 44, 52,\n",
       "       49, 59, 59, 46, 55, 47, 61, 49, 51, 52, 51, 50, 49, 44, 44, 43, 46,\n",
       "       56, 59, 43, 47, 49, 50, 44, 53, 56, 54, 45, 52, 50, 52, 51, 46, 49,\n",
       "       46, 50, 50, 52, 60, 47, 54, 54, 49, 50, 46, 49, 50, 51, 55, 48, 43,\n",
       "       53, 49, 51, 54, 57, 49, 48, 43, 49, 54, 52, 47, 45, 46, 49, 57, 60,\n",
       "       56, 44, 52, 46, 53, 55, 55, 50, 46, 48, 46, 42, 41, 56, 43, 49, 41,\n",
       "       49, 54, 61, 48, 51, 50, 55, 49, 52, 52, 57, 56, 47, 48, 43, 62, 49,\n",
       "       49, 48, 46, 39, 43, 56, 49, 54, 56, 51, 45, 50, 55, 55, 50, 60, 54,\n",
       "       51, 51, 50, 47, 48, 51, 42, 46, 45, 47, 56, 54, 50, 56, 46, 40, 51,\n",
       "       46, 45, 50, 51, 48, 54, 58, 57, 52, 52, 57, 51, 55, 53, 58, 53, 49,\n",
       "       51, 43, 57, 43, 51, 60, 47, 56, 54, 51, 56, 49, 45, 41, 52, 51, 54,\n",
       "       47, 50, 48, 51, 48, 53, 51, 44, 42, 52, 48, 48, 59, 56, 42, 52, 50,\n",
       "       58, 57, 52, 52, 59, 45, 57, 48, 49, 52, 46, 45, 47, 49, 60, 43, 46,\n",
       "       46, 53, 49, 54, 44, 53, 36, 47, 53, 44, 55, 52, 47, 55, 38, 44, 47,\n",
       "       53, 50, 53, 45, 52, 47, 48, 51, 47, 57, 52, 49, 50, 52, 50, 52, 52,\n",
       "       48, 48, 49, 45, 48, 47, 53, 45, 53, 55, 58, 56, 42, 56, 60, 55, 54,\n",
       "       50, 46, 54, 57, 43, 49, 44, 56, 55, 49, 43, 53, 52, 46, 45, 49, 42,\n",
       "       50, 52, 48, 55, 45, 53, 60, 62, 51, 44, 44, 58, 43, 49, 54, 54, 41,\n",
       "       57, 53, 54, 51, 48, 49, 55, 49, 51, 48, 44, 61, 58, 51, 47, 53, 48,\n",
       "       44, 53, 58, 49, 55, 64, 49, 55, 60, 56, 50, 42, 56, 51, 52, 48, 42,\n",
       "       46, 45, 49, 52, 48, 44, 49, 50, 56, 50, 45, 47, 49, 57, 52, 38, 48,\n",
       "       41, 40, 43, 53, 51, 54, 57, 54, 60, 44, 53, 54, 42, 46, 52, 54, 40,\n",
       "       53, 42, 53, 56, 49, 60, 54, 51, 48, 50, 52, 42, 48, 55, 51, 51, 54,\n",
       "       49, 47, 51, 51, 57, 45, 63, 50, 47, 50, 51, 43, 59, 55, 44, 53, 45,\n",
       "       49, 39, 57, 51, 43, 44, 45, 45, 43, 46, 48, 42, 48, 46, 53, 55, 53,\n",
       "       47, 55, 48, 51, 44, 49, 43, 49, 46, 57, 50, 50, 53, 57, 61, 53, 50,\n",
       "       52, 48, 51, 39, 52, 52, 50, 53, 47, 51, 58, 58, 48, 47, 47, 56, 55,\n",
       "       49, 41, 51, 50, 56, 55, 47, 43, 50, 53, 59, 48, 54, 50, 50, 45, 48,\n",
       "       52, 47, 45, 54, 53, 42, 47, 51, 49, 47, 54, 48, 47, 47, 48, 51, 53,\n",
       "       52, 49, 48, 48, 58, 48, 49, 49, 49, 42, 51, 55, 44, 52, 46, 52, 60,\n",
       "       46, 46, 60, 50, 43, 53, 48, 54, 53, 50, 46, 57, 51, 51, 51, 49, 57,\n",
       "       54, 58, 51, 54, 58, 52, 56, 49, 55, 42, 55, 41, 50, 61, 50, 52, 47,\n",
       "       48, 51, 45, 47, 53, 46, 43, 50, 45, 44, 58, 54, 44, 49, 55, 43, 55,\n",
       "       51, 53, 52, 57, 41, 55, 57, 46, 44, 54, 50, 45, 48, 36, 54, 52, 48,\n",
       "       54, 52, 55, 55, 51, 58, 45, 47, 54, 48, 47, 56, 54, 50, 47, 45, 46,\n",
       "       42, 50, 49, 60, 52, 43, 49, 41, 46, 54, 53, 47, 50, 47, 54, 54, 50,\n",
       "       54, 53, 38, 56, 56, 49, 47, 49, 52, 47, 47, 47, 39, 48, 47, 45, 58,\n",
       "       42, 52, 54, 45, 46, 52, 42, 60, 55, 47, 53, 56, 46, 40, 51, 47, 56,\n",
       "       44, 51, 47, 48, 54, 53, 54, 48, 54, 50, 45, 48, 58, 55, 57, 54, 48,\n",
       "       45, 49, 48, 51, 50, 54, 53, 47, 48, 49, 48, 47, 51, 47, 47, 49, 49,\n",
       "       42, 56, 59, 52, 49, 51, 48, 51, 67, 51, 49, 47, 56, 51, 52, 42, 51,\n",
       "       39, 57, 50, 50, 49, 59, 44, 51, 46, 44, 43, 49, 51, 51, 48, 44, 52,\n",
       "       49, 54, 47, 53, 52, 50, 46, 52, 48, 47, 53, 52, 50, 58, 52, 53, 53,\n",
       "       43, 50, 54, 50, 50, 50, 45, 59, 52, 50, 54, 48, 51, 51, 47, 51, 55,\n",
       "       45, 51, 56, 55, 47, 41, 58, 44, 47, 53, 56, 60, 46, 56, 55, 52, 49,\n",
       "       44, 54, 55, 52, 47, 43, 52, 51, 48, 53, 58, 49, 51, 47, 58, 36, 47,\n",
       "       57, 53, 45, 53, 53, 52, 43, 44, 49, 47, 50, 53, 43, 53, 44, 53, 51,\n",
       "       46, 48, 39, 54, 48, 42, 61, 59, 46, 52, 51, 51, 48, 40, 52, 51, 61,\n",
       "       43, 52, 52, 46, 50, 45, 46, 44, 48, 48, 51, 46, 44, 55, 40, 40, 43,\n",
       "       44, 52, 47, 44, 53, 55, 57, 42, 59, 49, 44, 49, 42, 48, 54, 48, 45,\n",
       "       45, 45, 47, 46, 48, 55, 62, 43, 59, 38, 56, 49, 50, 57, 40, 34, 55,\n",
       "       51, 47, 47, 54, 45, 45, 40, 53, 41, 49, 57, 40, 52, 53, 41, 55, 48,\n",
       "       59, 52, 49, 49, 52, 53, 48, 50, 52, 50, 48, 46, 49, 48],\n",
       "      dtype=int64)"
      ]
     },
     "execution_count": 5,
     "metadata": {},
     "output_type": "execute_result"
    }
   ],
   "source": [
    "# Result of flipping a coin 100 times, tested 1000 times\n",
    "\n",
    "import numpy as np\n",
    "from numpy.random import default_rng # as per latest release of numpy package\n",
    "rng = default_rng()\n",
    "import matplotlib.pyplot as plt \n",
    "import seaborn as sns\n",
    "\n",
    "n = 100     # number of independent experiments in each trial\n",
    "p = 0.5     # probability of success for each experiment (heads or tales)\n",
    "k = 1000    # number of trials\n",
    "\n",
    "h = rng.binomial (n, p, k)\n",
    "h"
   ]
  },
  {
   "cell_type": "code",
   "execution_count": 6,
   "metadata": {},
   "outputs": [],
   "source": [
    "# Function that runs our coin toss trials\n",
    "# heads is a list of the number of successes from each trial of n experiments\n",
    "\n",
    "def run_binom(k, n, p):\n",
    "    heads = []\n",
    "    for i in range(k):\n",
    "        tosses = [rng.random() for i in range(n)]\n",
    "        heads.append(len([i for i in tosses if i>=0.50]))\n",
    "    return heads"
   ]
  },
  {
   "cell_type": "code",
   "execution_count": 7,
   "metadata": {},
   "outputs": [],
   "source": [
    "# Run the function\n",
    "heads = run_binom(k, n, p)"
   ]
  },
  {
   "cell_type": "code",
   "execution_count": 8,
   "metadata": {},
   "outputs": [
    {
     "data": {
      "image/png": "[encoded data removed]",
      "text/plain": [
       "<Figure size 1008x504 with 1 Axes>"
      ]
     },
     "metadata": {
      "needs_background": "light"
     },
     "output_type": "display_data"
    }
   ],
   "source": [
    "# Plot the results as a histogram\n",
    "fig, ax = plt.subplots(figsize=(14,7))\n",
    "ax = sns.distplot(heads, bins=11, label='simulation results')\n",
    "ax.set_xlabel(\"Number of Heads\",fontsize=16)\n",
    "ax.set_ylabel(\"Frequency\",fontsize=16)\n",
    "# Plot the actual binomial distribution as a sanity check\n",
    "from scipy.stats import binom\n",
    "x = range(0,101)\n",
    "ax.plot(x, binom.pmf(x, n, p), 'ro', label='actual binomial distribution')\n",
    "ax.vlines(x, 0, binom.pmf(x, n, p), colors='r', lw= 3, alpha=0.5)\n",
    "plt.legend()\n",
    "plt.show()"
   ]
  },
  {
   "cell_type": "code",
   "execution_count": 9,
   "metadata": {},
   "outputs": [
    {
     "data": {
      "text/plain": [
       "0.0"
      ]
     },
     "execution_count": 9,
     "metadata": {},
     "output_type": "execute_result"
    }
   ],
   "source": [
    "sum(rng.binomial(100, 0.5, 1000) == 1)/1000"
   ]
  },
  {
   "cell_type": "markdown",
   "metadata": {},
   "source": [
    "***"
   ]
  },
  {
   "cell_type": "code",
   "execution_count": null,
   "metadata": {},
   "outputs": [],
   "source": []
  }
 ],
 "metadata": {
  "kernelspec": {
   "display_name": "Python 3",
   "language": "python",
   "name": "python3"
  },
  "language_info": {
   "codemirror_mode": {
    "name": "ipython",
    "version": 3
   },
   "file_extension": ".py",
   "mimetype": "text/x-python",
   "name": "python",
   "nbconvert_exporter": "python",
   "pygments_lexer": "ipython3",
   "version": "3.8.3"
  }
 },
 "nbformat": 4,
 "nbformat_minor": 4
}
