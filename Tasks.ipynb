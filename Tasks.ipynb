{
 "cells": [
  {
   "cell_type": "markdown",
   "metadata": {},
   "source": [
    "# Tasks\n",
    "\n",
    "These are my solutions to the Tasks assessment. The author is Adam S. (G00387867@gmit.ie)."
   ]
  },
  {
   "cell_type": "markdown",
   "metadata": {},
   "source": [
    "***"
   ]
  },
  {
   "cell_type": "markdown",
   "metadata": {},
   "source": [
    "### Task 1: _Counts_\n",
    "\n",
    "A Python function that takes a list as input and returns a dictionary of unique items in the list as keys and the number of times (frequency) each item appears as values.\n",
    "\n",
    "\n",
    "[1]  https://www.geeksforgeeks.org/counting-the-frequencies-in-a-list-using-dictionary-in-python/\n",
    "\n",
    "[2] https://stackoverflow.com/questions/3496518/using-a-dictionary-to-count-the-items-in-a-list"
   ]
  },
  {
   "cell_type": "code",
   "execution_count": 1,
   "metadata": {},
   "outputs": [
    {
     "name": "stdout",
     "output_type": "stream",
     "text": [
      "The Dictionary has the following items with number of occurences:\n",
      " {1: 3, 5: 2, 3: 3, 4: 2, 2: 3, 'A': 2, 'B': 1, 'a': 1, 'red': 1, 25.0: 1}\n"
     ]
    }
   ],
   "source": [
    "# [2]\n",
    "# Generating a list\n",
    "items = [1, 1, 5, 5, 3, 1, 3, 3, 4, 4, 2, 2, 2, \"A\", \"A\", \"B\", \"a\", \"red\", 25.0] \n",
    "\n",
    "# Creating the function.\n",
    "counts = dict()\n",
    "for i in items:\n",
    "  counts[i] = counts.get(i, 0) + 1\n",
    "\n",
    "print(\"The Dictionary has the following items with number of occurences:\\n\",counts)"
   ]
  },
  {
   "cell_type": "code",
   "execution_count": 2,
   "metadata": {},
   "outputs": [
    {
     "name": "stdout",
     "output_type": "stream",
     "text": [
      "1  : 3 \n",
      "5  : 2 \n",
      "3  : 3 \n",
      "4  : 2 \n",
      "2  : 3 \n",
      "A  : 1 \n",
      "red  : 1 \n",
      "25.0  : 1 \n"
     ]
    }
   ],
   "source": [
    "def Count(my_list): \n",
    "\n",
    "  # Creating an empty dictionary \n",
    "  freq = {} \n",
    "  for item in my_list: \n",
    "    if (item in freq): \n",
    "      freq[item] += 1\n",
    "    else: \n",
    "      freq[item] = 1\n",
    "\n",
    "  for key, value in freq.items(): \n",
    "    print(\"%s  : %d \"%(key, value))\n",
    "  \n",
    "\n",
    "my_list =  [1, 1, 5, 5, 3, 1, 3, 3, 4, 4, 2, 2, 2, \"A\", \"red\", 25.0]\n",
    "\n",
    "Count(my_list)"
   ]
  },
  {
   "cell_type": "markdown",
   "metadata": {},
   "source": [
    "<br>\n",
    "\n",
    "***\n",
    "### Task 2: _Dice roller_\n",
    "\n",
    "A Python function called dicerolls that simulates rolling dice. The function takes two parameters: the number of dice `k = 2` and\n",
    "the number of times to roll the dice `n = 1000`.\n",
    "\n",
    "[1] stack overflow; https://stackoverflow.com/questions/60343980/rolling-2-dice-1000-times-and-counting-the-number-of-times-the-sum-of-the-two-di\n",
    "\n",
    "[2] reddit;  https://www.reddit.com/r/learnpython/comments/55zdez/putting_outcomes_of_dice_roll_in_dictionary/\n",
    "\n",
    "[3] AoPS Online;  https://artofproblemsolving.com/wiki/index.php/Basic_Programming_With_Python"
   ]
  },
  {
   "cell_type": "code",
   "execution_count": 3,
   "metadata": {},
   "outputs": [
    {
     "name": "stdout",
     "output_type": "stream",
     "text": [
      "Rolling two dice for a thousand times gives us the following results:\n",
      "\n",
      " defaultdict(<class 'int'>, {10: 75, 7: 177, 11: 55, 9: 94, 4: 73, 6: 144, 2: 31, 5: 111, 8: 155, 12: 22, 3: 63})\n"
     ]
    }
   ],
   "source": [
    "# We can simulate the Dice Roll with the following code:\n",
    "\n",
    "from collections import defaultdict\n",
    "from random import randint\n",
    "\n",
    "# Roll the two dice how many times?\n",
    "n = 1000\n",
    "\n",
    "# Create a dictionary to store the results\n",
    "results = defaultdict(int)\n",
    "\n",
    "# Loop n times\n",
    "for _ in range(n):\n",
    "    # Get random numbers for the two dice\n",
    "    die_1 = randint(1, 6)\n",
    "    die_2 = randint(1, 6)\n",
    "    # Increase the corresponding result by 1\n",
    "    results[die_1 + die_2] += 1\n",
    "\n",
    "# Print results\n",
    "print(\"Rolling two dice for a thousand times gives us the following results:\\n\\n\",results)"
   ]
  },
  {
   "cell_type": "code",
   "execution_count": 4,
   "metadata": {},
   "outputs": [
    {
     "name": "stdout",
     "output_type": "stream",
     "text": [
      "Rolling two dice for a thousand times gives us the following results:\n",
      "\n",
      " defaultdict(<class 'int'>, {8: 81, 7: 108, 5: 91, 6: 86, 11: 80, 9: 91, 2: 93, 12: 76, 4: 97, 3: 94, 10: 103})\n"
     ]
    }
   ],
   "source": [
    "# Another way to simulate a dice roll.\n",
    "# we have two dice, k= 2\n",
    "\n",
    "import collections\n",
    "import random\n",
    "\n",
    "\n",
    "def diceroll(rolls, sides):\n",
    "    dice = defaultdict(int)\n",
    "    for x in range(rolls):\n",
    "        dice[random.randint(2, sides)] += 1\n",
    "    return(dice)\n",
    "diceroll(1000, 12)\n",
    "print(\"Rolling two dice for a thousand times gives us the following results:\\n\\n\",diceroll(1000, 12))"
   ]
  },
  {
   "cell_type": "markdown",
   "metadata": {},
   "source": [
    "<br>\n",
    "\n",
    "***\n",
    "\n",
    "### Task 3: _binomial distribution_\n",
    "\n",
    "$$P(N) = \\binom{n}{N}p^N(1-p)^{n-N}$$\n",
    "`Where n is the number of trials, p is the probability of success, and N is the number of successes.`\n",
    "\n",
    "Definition of binomial distribution: the binomial distribution is the probability distribution of a sequence of experiments where each experiment produces a binary outcome (in this exapmle, flipping a coin), and where each of the outcomes is independent of all the others.[2]\n",
    "\n",
    "\n",
    "[1] https://numpy.org/doc/stable/reference/random/generated/numpy.random.binomial.html\n",
    "\n",
    "[2] towards data science ; https://towardsdatascience.com/fun-with-the-binomial-distribution-96a5ecabf65b"
   ]
  },
  {
   "cell_type": "code",
   "execution_count": 5,
   "metadata": {
    "scrolled": true
   },
   "outputs": [
    {
     "data": {
      "text/plain": [
       "array([49, 39, 50, 47, 54, 38, 43, 47, 46, 52, 57, 53, 49, 49, 48, 55, 50,\n",
       "       54, 44, 57, 61, 64, 51, 51, 46, 46, 51, 49, 51, 53, 49, 57, 59, 52,\n",
       "       48, 38, 54, 40, 47, 47, 50, 49, 48, 48, 60, 55, 44, 50, 50, 51, 53,\n",
       "       40, 46, 50, 44, 57, 47, 57, 52, 42, 51, 57, 59, 43, 53, 49, 55, 49,\n",
       "       52, 59, 54, 55, 48, 51, 44, 46, 47, 42, 47, 52, 49, 39, 48, 60, 51,\n",
       "       51, 54, 43, 44, 52, 61, 57, 48, 46, 57, 52, 60, 53, 43, 43, 44, 53,\n",
       "       50, 47, 40, 47, 50, 58, 47, 55, 45, 55, 49, 51, 56, 44, 37, 52, 55,\n",
       "       48, 51, 50, 43, 51, 50, 42, 57, 54, 57, 64, 55, 56, 42, 47, 48, 54,\n",
       "       50, 55, 52, 52, 59, 58, 58, 47, 44, 49, 57, 53, 55, 43, 44, 44, 50,\n",
       "       41, 52, 53, 41, 48, 49, 42, 55, 56, 47, 56, 49, 50, 44, 42, 63, 49,\n",
       "       55, 50, 52, 48, 57, 52, 42, 54, 46, 48, 48, 60, 49, 52, 50, 52, 45,\n",
       "       53, 47, 47, 46, 50, 53, 40, 60, 48, 56, 53, 62, 51, 48, 55, 46, 43,\n",
       "       65, 50, 51, 42, 42, 49, 54, 49, 38, 48, 57, 64, 48, 47, 47, 53, 45,\n",
       "       46, 45, 45, 46, 46, 53, 54, 58, 54, 57, 45, 52, 51, 51, 52, 46, 43,\n",
       "       49, 60, 46, 50, 54, 53, 55, 46, 42, 47, 51, 58, 44, 45, 49, 57, 49,\n",
       "       49, 44, 53, 46, 45, 52, 52, 52, 52, 52, 57, 49, 49, 46, 44, 56, 47,\n",
       "       46, 50, 41, 54, 54, 50, 40, 56, 56, 48, 38, 51, 47, 53, 52, 47, 47,\n",
       "       55, 48, 57, 45, 49, 53, 48, 48, 51, 54, 42, 51, 51, 51, 50, 53, 54,\n",
       "       47, 42, 50, 57, 49, 52, 46, 50, 51, 48, 44, 53, 43, 50, 51, 54, 61,\n",
       "       47, 47, 52, 47, 58, 48, 51, 51, 47, 46, 49, 47, 42, 56, 43, 45, 55,\n",
       "       45, 47, 39, 44, 51, 46, 57, 45, 55, 51, 56, 53, 54, 50, 44, 55, 56,\n",
       "       51, 47, 55, 52, 49, 57, 50, 50, 61, 47, 53, 50, 56, 41, 59, 50, 52,\n",
       "       48, 54, 44, 61, 47, 53, 44, 55, 47, 56, 48, 57, 63, 59, 43, 45, 55,\n",
       "       49, 53, 54, 51, 52, 53, 54, 48, 46, 48, 47, 51, 53, 46, 48, 53, 51,\n",
       "       52, 52, 53, 47, 57, 49, 44, 47, 47, 54, 51, 49, 51, 49, 53, 48, 48,\n",
       "       45, 51, 50, 44, 50, 47, 44, 49, 49, 56, 40, 54, 45, 50, 49, 49, 42,\n",
       "       54, 54, 43, 50, 49, 53, 56, 48, 44, 57, 58, 50, 49, 52, 45, 50, 42,\n",
       "       49, 49, 54, 51, 42, 55, 55, 45, 51, 50, 44, 43, 48, 45, 50, 44, 53,\n",
       "       49, 45, 57, 47, 44, 47, 51, 47, 53, 50, 42, 52, 47, 55, 53, 46, 54,\n",
       "       44, 51, 51, 48, 51, 46, 53, 43, 51, 48, 42, 53, 45, 52, 45, 48, 52,\n",
       "       48, 49, 53, 47, 62, 51, 50, 46, 51, 58, 51, 58, 50, 53, 46, 52, 47,\n",
       "       58, 53, 50, 52, 46, 47, 43, 52, 57, 52, 43, 57, 43, 54, 52, 43, 47,\n",
       "       44, 49, 55, 46, 52, 42, 43, 45, 41, 48, 46, 54, 57, 47, 47, 48, 44,\n",
       "       52, 51, 49, 47, 56, 43, 49, 44, 46, 50, 44, 51, 58, 47, 56, 54, 54,\n",
       "       40, 48, 53, 60, 52, 50, 54, 51, 50, 57, 49, 55, 50, 53, 54, 39, 44,\n",
       "       54, 44, 59, 57, 48, 42, 48, 51, 49, 44, 58, 51, 52, 59, 45, 48, 49,\n",
       "       43, 48, 52, 45, 51, 59, 46, 46, 50, 52, 56, 44, 51, 56, 45, 47, 47,\n",
       "       47, 52, 48, 49, 56, 51, 50, 50, 52, 50, 44, 52, 38, 45, 58, 50, 45,\n",
       "       46, 54, 50, 50, 50, 40, 43, 43, 44, 53, 51, 56, 53, 57, 51, 66, 53,\n",
       "       48, 48, 51, 51, 54, 54, 48, 55, 51, 51, 55, 49, 47, 58, 54, 50, 53,\n",
       "       46, 59, 48, 54, 53, 45, 50, 51, 44, 51, 49, 53, 48, 50, 50, 46, 54,\n",
       "       49, 58, 50, 52, 52, 55, 57, 41, 49, 47, 50, 50, 54, 55, 53, 53, 57,\n",
       "       51, 49, 52, 57, 53, 48, 40, 54, 49, 49, 42, 53, 47, 60, 50, 49, 46,\n",
       "       55, 40, 45, 50, 52, 46, 54, 54, 48, 54, 52, 49, 56, 42, 47, 48, 50,\n",
       "       50, 54, 54, 49, 55, 54, 53, 53, 51, 53, 51, 46, 57, 57, 52, 52, 43,\n",
       "       50, 44, 42, 51, 51, 52, 52, 52, 52, 44, 52, 51, 51, 50, 50, 57, 47,\n",
       "       45, 45, 50, 50, 53, 46, 58, 41, 49, 51, 57, 44, 46, 52, 55, 57, 56,\n",
       "       56, 49, 50, 57, 52, 49, 52, 47, 47, 47, 53, 48, 49, 49, 49, 47, 54,\n",
       "       52, 47, 50, 42, 56, 54, 55, 48, 42, 45, 61, 53, 42, 55, 52, 51, 46,\n",
       "       63, 51, 54, 49, 50, 46, 51, 55, 51, 47, 63, 49, 56, 59, 58, 47, 55,\n",
       "       46, 46, 49, 43, 55, 52, 58, 51, 49, 46, 48, 45, 49, 54, 52, 50, 47,\n",
       "       53, 52, 45, 54, 54, 41, 49, 54, 52, 54, 47, 53, 48, 41, 49, 53, 44,\n",
       "       49, 50, 65, 44, 59, 56, 53, 44, 54, 47, 40, 48, 57, 53, 58, 49, 48,\n",
       "       49, 48, 56, 43, 54, 59, 54, 54, 52, 48, 52, 56, 48, 57, 58, 40, 59,\n",
       "       54, 51, 45, 60, 47, 50, 40, 45, 50, 62, 47, 49, 53, 52, 54, 56, 53,\n",
       "       49, 55, 47, 57, 56, 51, 46, 54, 49, 54, 44, 46, 48, 46, 45, 50, 57,\n",
       "       55, 43, 39, 49, 47, 54, 49, 47, 58, 51, 54, 43, 60, 48, 51, 59, 53,\n",
       "       53, 51, 51, 46, 57, 52, 55, 48, 51, 44, 44, 42, 57, 56, 56, 52, 54,\n",
       "       49, 61, 48, 35, 45, 46, 49, 59, 42, 42, 56, 51, 45, 55],\n",
       "      dtype=int64)"
      ]
     },
     "execution_count": 5,
     "metadata": {},
     "output_type": "execute_result"
    }
   ],
   "source": [
    "# Result of flipping a coin 100 times, tested 1000 times\n",
    "\n",
    "import numpy as np\n",
    "from numpy.random import default_rng # as per latest release of numpy package\n",
    "rng = default_rng()\n",
    "import matplotlib.pyplot as plt \n",
    "import seaborn as sns\n",
    "\n",
    "n = 100     # number of independent experiments in each trial\n",
    "p = 0.5     # probability of success for each experiment (heads or tales)\n",
    "k = 1000    # number of trials\n",
    "\n",
    "h = rng.binomial (n, p, k)\n",
    "h"
   ]
  },
  {
   "cell_type": "code",
   "execution_count": 6,
   "metadata": {},
   "outputs": [],
   "source": [
    "# Function that runs our coin toss trials\n",
    "# heads is a list of the number of successes from each trial of n experiments\n",
    "\n",
    "def run_binom(k, n, p):\n",
    "    heads = []\n",
    "    for i in range(k):\n",
    "        tosses = [rng.random() for i in range(n)]\n",
    "        heads.append(len([i for i in tosses if i>=0.50]))\n",
    "    return heads"
   ]
  },
  {
   "cell_type": "code",
   "execution_count": 7,
   "metadata": {},
   "outputs": [],
   "source": [
    "# Run the function\n",
    "heads = run_binom(k, n, p)"
   ]
  },
  {
   "cell_type": "code",
   "execution_count": 8,
   "metadata": {
    "scrolled": true
   },
   "outputs": [
    {
     "data": {
      "image/png": "[encoded data removed]",
      "text/plain": [
       "<Figure size 1008x504 with 1 Axes>"
      ]
     },
     "metadata": {
      "needs_background": "light"
     },
     "output_type": "display_data"
    }
   ],
   "source": [
    "# Plot the results as a histogram\n",
    "fig, ax = plt.subplots(figsize=(14,7))\n",
    "ax = sns.distplot(heads, bins=11, label='simulation results')\n",
    "ax.set_xlabel(\"Number of Heads\",fontsize=16)\n",
    "ax.set_ylabel(\"Frequency\",fontsize=16)\n",
    "# Plot the actual binomial distribution as a sanity check\n",
    "from scipy.stats import binom\n",
    "x = range(0,101)\n",
    "ax.plot(x, binom.pmf(x, n, p), 'ro', label='actual binomial distribution')\n",
    "ax.vlines(x, 0, binom.pmf(x, n, p), colors='r', lw= 3, alpha=0.5)\n",
    "plt.legend()\n",
    "plt.show()"
   ]
  },
  {
   "cell_type": "markdown",
   "metadata": {},
   "source": [
    "<br>\n",
    "\n",
    "***\n",
    "\n",
    "### Task 4 : _Simpson's paradox_"
   ]
  },
  {
   "cell_type": "code",
   "execution_count": 9,
   "metadata": {},
   "outputs": [],
   "source": [
    "%matplotlib inline\n",
    "import numpy as np\n",
    "import matplotlib.pyplot as plt\n",
    "plt.style.use(\"ggplot\")\n",
    "plt.rcParams[\"figure.figsize\"] = (18, 10)\n"
   ]
  },
  {
   "cell_type": "code",
   "execution_count": 10,
   "metadata": {},
   "outputs": [],
   "source": [
    "# Creating a standard data set\n",
    "# x ,  y = a * x + b\n",
    "a = 3.0\n",
    "b = 2.0"
   ]
  },
  {
   "cell_type": "code",
   "execution_count": 11,
   "metadata": {
    "scrolled": true
   },
   "outputs": [],
   "source": [
    "x = np.linspace (0.0, 10.0, 50)\n"
   ]
  },
  {
   "cell_type": "code",
   "execution_count": 12,
   "metadata": {
    "scrolled": false
   },
   "outputs": [
    {
     "data": {
      "text/plain": [
       "array([ 0.        ,  0.20408163,  0.40816327,  0.6122449 ,  0.81632653,\n",
       "        1.02040816,  1.2244898 ,  1.42857143,  1.63265306,  1.83673469,\n",
       "        2.04081633,  2.24489796,  2.44897959,  2.65306122,  2.85714286,\n",
       "        3.06122449,  3.26530612,  3.46938776,  3.67346939,  3.87755102,\n",
       "        4.08163265,  4.28571429,  4.48979592,  4.69387755,  4.89795918,\n",
       "        5.10204082,  5.30612245,  5.51020408,  5.71428571,  5.91836735,\n",
       "        6.12244898,  6.32653061,  6.53061224,  6.73469388,  6.93877551,\n",
       "        7.14285714,  7.34693878,  7.55102041,  7.75510204,  7.95918367,\n",
       "        8.16326531,  8.36734694,  8.57142857,  8.7755102 ,  8.97959184,\n",
       "        9.18367347,  9.3877551 ,  9.59183673,  9.79591837, 10.        ])"
      ]
     },
     "execution_count": 12,
     "metadata": {},
     "output_type": "execute_result"
    }
   ],
   "source": [
    "x"
   ]
  },
  {
   "cell_type": "code",
   "execution_count": 13,
   "metadata": {},
   "outputs": [
    {
     "data": {
      "text/plain": [
       "50"
      ]
     },
     "execution_count": 13,
     "metadata": {},
     "output_type": "execute_result"
    }
   ],
   "source": [
    "len(x)"
   ]
  },
  {
   "cell_type": "code",
   "execution_count": 14,
   "metadata": {},
   "outputs": [],
   "source": [
    "y = 3.0 * x + 2.0"
   ]
  },
  {
   "cell_type": "code",
   "execution_count": 15,
   "metadata": {},
   "outputs": [
    {
     "data": {
      "text/plain": [
       "array([ 2.        ,  2.6122449 ,  3.2244898 ,  3.83673469,  4.44897959,\n",
       "        5.06122449,  5.67346939,  6.28571429,  6.89795918,  7.51020408,\n",
       "        8.12244898,  8.73469388,  9.34693878,  9.95918367, 10.57142857,\n",
       "       11.18367347, 11.79591837, 12.40816327, 13.02040816, 13.63265306,\n",
       "       14.24489796, 14.85714286, 15.46938776, 16.08163265, 16.69387755,\n",
       "       17.30612245, 17.91836735, 18.53061224, 19.14285714, 19.75510204,\n",
       "       20.36734694, 20.97959184, 21.59183673, 22.20408163, 22.81632653,\n",
       "       23.42857143, 24.04081633, 24.65306122, 25.26530612, 25.87755102,\n",
       "       26.48979592, 27.10204082, 27.71428571, 28.32653061, 28.93877551,\n",
       "       29.55102041, 30.16326531, 30.7755102 , 31.3877551 , 32.        ])"
      ]
     },
     "execution_count": 15,
     "metadata": {},
     "output_type": "execute_result"
    }
   ],
   "source": [
    "y"
   ]
  },
  {
   "cell_type": "code",
   "execution_count": 16,
   "metadata": {},
   "outputs": [
    {
     "data": {
      "text/plain": [
       "50"
      ]
     },
     "execution_count": 16,
     "metadata": {},
     "output_type": "execute_result"
    }
   ],
   "source": [
    "len(y)"
   ]
  },
  {
   "cell_type": "code",
   "execution_count": 17,
   "metadata": {},
   "outputs": [
    {
     "data": {
      "text/plain": [
       "[<matplotlib.lines.Line2D at 0x21211e0b2b0>]"
      ]
     },
     "execution_count": 17,
     "metadata": {},
     "output_type": "execute_result"
    },
    {
     "data": {
      "image/png": "[encoded data removed]",
      "text/plain": [
       "<Figure size 1296x720 with 1 Axes>"
      ]
     },
     "metadata": {},
     "output_type": "display_data"
    }
   ],
   "source": [
    "plt.plot(x, y, \"-\")"
   ]
  },
  {
   "cell_type": "code",
   "execution_count": 18,
   "metadata": {
    "scrolled": true
   },
   "outputs": [
    {
     "data": {
      "text/plain": [
       "array([3., 2.])"
      ]
     },
     "execution_count": 18,
     "metadata": {},
     "output_type": "execute_result"
    }
   ],
   "source": [
    "coeffs = np.polyfit(x, y, 1)\n",
    "coeffs"
   ]
  },
  {
   "cell_type": "code",
   "execution_count": 19,
   "metadata": {},
   "outputs": [
    {
     "data": {
      "text/plain": [
       "[<matplotlib.lines.Line2D at 0x21211e686a0>]"
      ]
     },
     "execution_count": 19,
     "metadata": {},
     "output_type": "execute_result"
    },
    {
     "data": {
      "image/png": "[encoded data removed]",
      "text/plain": [
       "<Figure size 1296x720 with 1 Axes>"
      ]
     },
     "metadata": {},
     "output_type": "display_data"
    }
   ],
   "source": [
    "# Add some noise\n",
    "y = 3.0 * x + 2.0 + np.random.normal(0.0, 1.0, len(x))\n",
    "plt.plot(x, y, \".\")"
   ]
  },
  {
   "cell_type": "code",
   "execution_count": 20,
   "metadata": {},
   "outputs": [
    {
     "data": {
      "text/plain": [
       "array([2.99213889, 1.92070877])"
      ]
     },
     "execution_count": 20,
     "metadata": {},
     "output_type": "execute_result"
    }
   ],
   "source": [
    "# coeffecients\n",
    "coeffs = np.polyfit(x, y, 1)\n",
    "coeffs"
   ]
  },
  {
   "cell_type": "code",
   "execution_count": 21,
   "metadata": {},
   "outputs": [
    {
     "data": {
      "text/plain": [
       "<matplotlib.legend.Legend at 0x21211ec7160>"
      ]
     },
     "execution_count": 21,
     "metadata": {},
     "output_type": "execute_result"
    },
    {
     "data": {
      "image/png": "[encoded data removed]",
      "text/plain": [
       "<Figure size 1296x720 with 1 Axes>"
      ]
     },
     "metadata": {},
     "output_type": "display_data"
    }
   ],
   "source": [
    "plt.plot(x, y, \".\", label = \"Data\")\n",
    "plt.plot(x, coeffs[0] * x + coeffs[1], \"-\", label = \"Best fit\")\n",
    "plt.legend()"
   ]
  },
  {
   "cell_type": "markdown",
   "metadata": {},
   "source": [
    " ### Creating four data sets:"
   ]
  },
  {
   "cell_type": "markdown",
   "metadata": {},
   "source": [
    "- #### First data set x1, y1"
   ]
  },
  {
   "cell_type": "code",
   "execution_count": 22,
   "metadata": {},
   "outputs": [],
   "source": [
    "# Creating 1st data set.\n",
    "# x2 ,  y2 = a * x + b\n",
    "\n",
    "a = 3.0\n",
    "b = 2.0"
   ]
  },
  {
   "cell_type": "code",
   "execution_count": 23,
   "metadata": {},
   "outputs": [],
   "source": [
    "x1 = np.linspace(0.0, 0.5, 150)"
   ]
  },
  {
   "cell_type": "code",
   "execution_count": 24,
   "metadata": {},
   "outputs": [],
   "source": [
    "y1 = 3.0 * x1 + 2.0 + np.random.normal(0.0, 1.0, len(x1))"
   ]
  },
  {
   "cell_type": "code",
   "execution_count": 25,
   "metadata": {},
   "outputs": [
    {
     "data": {
      "text/plain": [
       "array([3.00518723, 2.00520304])"
      ]
     },
     "execution_count": 25,
     "metadata": {},
     "output_type": "execute_result"
    }
   ],
   "source": [
    "coeffs1 = np.polyfit(x1, y1, 1)\n",
    "coeffs1"
   ]
  },
  {
   "cell_type": "markdown",
   "metadata": {},
   "source": [
    "- #### Second data set x2, y2"
   ]
  },
  {
   "cell_type": "code",
   "execution_count": 26,
   "metadata": {},
   "outputs": [],
   "source": [
    "# Creating 2nd data set.\n",
    "# x2 ,  y2 = a * x + b\n",
    "\n",
    "a = 6.0\n",
    "b = 5.0"
   ]
  },
  {
   "cell_type": "code",
   "execution_count": 27,
   "metadata": {},
   "outputs": [],
   "source": [
    "x2 = np.linspace(0.0, 0.5, 120)"
   ]
  },
  {
   "cell_type": "code",
   "execution_count": 28,
   "metadata": {},
   "outputs": [],
   "source": [
    "y2 = 6.0 * x2 + 5.0 + np.random.normal(0.0, 1.0, len(x2))"
   ]
  },
  {
   "cell_type": "code",
   "execution_count": 29,
   "metadata": {},
   "outputs": [
    {
     "data": {
      "text/plain": [
       "array([6.09790449, 4.82507783])"
      ]
     },
     "execution_count": 29,
     "metadata": {},
     "output_type": "execute_result"
    }
   ],
   "source": [
    "coeffs2 = np.polyfit(x2, y2, 1)\n",
    "coeffs2"
   ]
  },
  {
   "cell_type": "markdown",
   "metadata": {},
   "source": [
    "- #### Third data set x3, y3"
   ]
  },
  {
   "cell_type": "code",
   "execution_count": 30,
   "metadata": {},
   "outputs": [],
   "source": [
    "# Creating 3rd data set.\n",
    "# x3 ,  y3 = a * x + b\n",
    "\n",
    "a = 8.0\n",
    "b = 7.0"
   ]
  },
  {
   "cell_type": "code",
   "execution_count": 31,
   "metadata": {},
   "outputs": [],
   "source": [
    "x3 = np.linspace(0.0, 0.5, 100)"
   ]
  },
  {
   "cell_type": "code",
   "execution_count": 32,
   "metadata": {},
   "outputs": [],
   "source": [
    "y3 = 8.0 * x3 + 7.0 + np.random.normal(0.0, 1.0, len(x3))"
   ]
  },
  {
   "cell_type": "code",
   "execution_count": 33,
   "metadata": {},
   "outputs": [
    {
     "data": {
      "text/plain": [
       "array([6.61868279, 7.35522198])"
      ]
     },
     "execution_count": 33,
     "metadata": {},
     "output_type": "execute_result"
    }
   ],
   "source": [
    "coeffs3 = np.polyfit(x3, y3, 1)\n",
    "coeffs3"
   ]
  },
  {
   "cell_type": "markdown",
   "metadata": {},
   "source": [
    "- #### Forth data set x4, y4"
   ]
  },
  {
   "cell_type": "code",
   "execution_count": 34,
   "metadata": {},
   "outputs": [],
   "source": [
    "# Creating 4th data set.\n",
    "# x4 ,  y4 = a * x + b\n",
    "\n",
    "a = 10.0\n",
    "b = 9.0"
   ]
  },
  {
   "cell_type": "code",
   "execution_count": 35,
   "metadata": {},
   "outputs": [],
   "source": [
    "x4 = np.linspace(0.0, 0.5, 100)"
   ]
  },
  {
   "cell_type": "code",
   "execution_count": 36,
   "metadata": {},
   "outputs": [],
   "source": [
    "y4 = 10.0 * x3 + 9.0 + np.random.normal(0.0, 1.0, len(x4))"
   ]
  },
  {
   "cell_type": "code",
   "execution_count": 37,
   "metadata": {},
   "outputs": [
    {
     "data": {
      "text/plain": [
       "array([9.59857464, 9.17934488])"
      ]
     },
     "execution_count": 37,
     "metadata": {},
     "output_type": "execute_result"
    }
   ],
   "source": [
    "coeffs4 = np.polyfit(x4, y4, 1)\n",
    "coeffs4"
   ]
  },
  {
   "cell_type": "code",
   "execution_count": 38,
   "metadata": {},
   "outputs": [
    {
     "data": {
      "text/plain": [
       "<matplotlib.legend.Legend at 0x21211f39160>"
      ]
     },
     "execution_count": 38,
     "metadata": {},
     "output_type": "execute_result"
    },
    {
     "data": {
      "image/png": "[encoded data removed]",
      "text/plain": [
       "<Figure size 1296x720 with 1 Axes>"
      ]
     },
     "metadata": {},
     "output_type": "display_data"
    }
   ],
   "source": [
    "# First data set.\n",
    "plt.plot(x1, y1, \".\", label = \"Data set 1\")\n",
    "plt.plot(x1, coeffs1[0] * x1 + coeffs1[1], \"-\", label = \"Best fit line 1\")\n",
    "\n",
    "# Second data set.\n",
    "plt.plot(x2, y2, \".\", label = \"Data set 2\")\n",
    "plt.plot(x2, coeffs2[0] * x2 + coeffs2[1], \"-\", label = \"Best fit line 2\")\n",
    "\n",
    "# Third data set.\n",
    "plt.plot(x3, y3, \".\", label = \"Data set 3\")\n",
    "plt.plot(x3, coeffs3[0] * x3 + coeffs3[1], \"-\", label = \"Best fit line 3\")\n",
    "\n",
    "# Forth data set.\n",
    "plt.plot(x4, y4, \".\", label = \"Data set 4\")\n",
    "plt.plot(x4, coeffs4[0] * x4 + coeffs4[1], \"-\", label = \"Best fit line 4\")\n",
    "plt.legend()"
   ]
  },
  {
   "cell_type": "markdown",
   "metadata": {},
   "source": [
    "- #### Combine data sets\n",
    "\n"
   ]
  },
  {
   "cell_type": "code",
   "execution_count": 39,
   "metadata": {},
   "outputs": [],
   "source": [
    "x = np.concatenate([x1, x2, x3, x4])"
   ]
  },
  {
   "cell_type": "code",
   "execution_count": 40,
   "metadata": {},
   "outputs": [],
   "source": [
    "y = np.concatenate([y1, y2, y3, y4])"
   ]
  },
  {
   "cell_type": "code",
   "execution_count": 41,
   "metadata": {},
   "outputs": [
    {
     "data": {
      "text/plain": [
       "array([5.97268125, 5.38833942])"
      ]
     },
     "execution_count": 41,
     "metadata": {},
     "output_type": "execute_result"
    }
   ],
   "source": [
    "coeffs = np.polyfit(x, y, 1)\n",
    "coeffs"
   ]
  },
  {
   "cell_type": "code",
   "execution_count": null,
   "metadata": {},
   "outputs": [
    {
     "data": {
      "text/plain": [
       "<matplotlib.legend.Legend at 0x21211fa4250>"
      ]
     },
     "execution_count": 42,
     "metadata": {},
     "output_type": "execute_result"
    }
   ],
   "source": [
    "# First data set.\n",
    "plt.plot(x1, y1, \".\", label = \"Data set 1\")\n",
    "plt.plot(x1, coeffs1[0] * x1 + coeffs1[1], \"-\", label = \"Best fit line 1\")\n",
    "\n",
    "# Second data set.\n",
    "plt.plot(x2, y2, \".\", label = \"Data set 2\")\n",
    "plt.plot(x2, coeffs2[0] * x2 + coeffs2[1], \"-\", label = \"Best fit line 2\")\n",
    "\n",
    "# Third data set.\n",
    "plt.plot(x3, y3, \".\", label = \"Data set 3\")\n",
    "plt.plot(x3, coeffs3[0] * x3 + coeffs3[1], \"-\", label = \"Best fit line 3\")\n",
    "\n",
    "# Fourth data set.\n",
    "plt.plot(x4, y4, \".\", label = \"Data set 4\")\n",
    "plt.plot(x4, coeffs4[0] * x4 + coeffs4[1], \"-\", label = \"Best fit line 4\")\n",
    "\n",
    "# combined data sets\n",
    "# plt.plot(x, y, \".\", label = \" Combined data sets\")\n",
    "plt.plot(x, coeffs[0] * x + coeffs[1], \"+\", label = \"Best fit line for combined data sets\")\n",
    "\n",
    "plt.legend()"
   ]
  },
  {
   "cell_type": "markdown",
   "metadata": {},
   "source": [
    "References:\n",
    "\n",
    "[1] Wikipedia; Simpson's paradox : https://en.wikipedia.org/wiki/Simpson%27s_paradox\n",
    "\n",
    "[1] KDnuggets: https://www.kdnuggets.com/2020/09/simpsons-paradox.html\n",
    "\n",
    "[2] Ian Mc Loughlin: https://github.com/ianmcloughlin/jupyter-teaching-notebooks/blob/master/fitting-lines.ipynb"
   ]
  },
  {
   "cell_type": "markdown",
   "metadata": {},
   "source": [
    "## End"
   ]
  }
 ],
 "metadata": {
  "kernelspec": {
   "display_name": "Python 3",
   "language": "python",
   "name": "python3"
  },
  "language_info": {
   "codemirror_mode": {
    "name": "ipython",
    "version": 3
   },
   "file_extension": ".py",
   "mimetype": "text/x-python",
   "name": "python",
   "nbconvert_exporter": "python",
   "pygments_lexer": "ipython3",
   "version": "3.8.3"
  }
 },
 "nbformat": 4,
 "nbformat_minor": 4
}
