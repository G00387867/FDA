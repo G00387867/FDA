{
 "cells": [
  {
   "cell_type": "markdown",
   "metadata": {},
   "source": [
    "# Tasks\n",
    "\n",
    "These are my solutions to the Tasks assessment. The author is Adam S. (G00387867@gmit.ie)."
   ]
  },
  {
   "cell_type": "markdown",
   "metadata": {},
   "source": [
    "***"
   ]
  },
  {
   "cell_type": "markdown",
   "metadata": {},
   "source": [
    "### Task 1: Counts\n",
    "\n",
    "A Python function that takes a list as input and returns a dictionary of unique items in the list as keys and the number of times (frequency) each item appears as values.\n",
    "\n",
    "\n",
    "[1]  https://www.geeksforgeeks.org/counting-the-frequencies-in-a-list-using-dictionary-in-python/\n",
    "\n",
    "[2] https://stackoverflow.com/questions/3496518/using-a-dictionary-to-count-the-items-in-a-list"
   ]
  },
  {
   "cell_type": "code",
   "execution_count": 1,
   "metadata": {},
   "outputs": [
    {
     "data": {
      "text/plain": [
       "{1: 3, 5: 2, 3: 3, 4: 2, 2: 3, 'A': 2, 'B': 1, 'a': 1, 'red': 1, 25.0: 1}"
      ]
     },
     "execution_count": 1,
     "metadata": {},
     "output_type": "execute_result"
    }
   ],
   "source": [
    "# [2]\n",
    "\n",
    "items = [1, 1, 5, 5, 3, 1, 3, 3, 4, 4, 2, 2, 2, \"A\", \"A\", \"B\", \"a\", \"red\", 25.0] \n",
    "\n",
    "counts = dict()\n",
    "for i in items:\n",
    "  counts[i] = counts.get(i, 0) + 1\n",
    "\n",
    "counts"
   ]
  },
  {
   "cell_type": "code",
   "execution_count": 2,
   "metadata": {},
   "outputs": [
    {
     "name": "stdout",
     "output_type": "stream",
     "text": [
      "1  : 3 \n",
      "5  : 2 \n",
      "3  : 3 \n",
      "4  : 2 \n",
      "2  : 3 \n",
      "A  : 1 \n",
      "red  : 1 \n",
      "25.0  : 1 \n"
     ]
    }
   ],
   "source": [
    "def Count(my_list): \n",
    "\n",
    "  # Creating an empty dictionary \n",
    "  freq = {} \n",
    "  for item in my_list: \n",
    "    if (item in freq): \n",
    "      freq[item] += 1\n",
    "    else: \n",
    "      freq[item] = 1\n",
    "\n",
    "  for key, value in freq.items(): \n",
    "    print(\"%s  : %d \"%(key, value))\n",
    "  \n",
    "\n",
    "my_list =  [1, 1, 5, 5, 3, 1, 3, 3, 4, 4, 2, 2, 2, \"A\", \"red\", 25.0]\n",
    "\n",
    "Count(my_list)"
   ]
  },
  {
   "cell_type": "markdown",
   "metadata": {},
   "source": [
    "<br>"
   ]
  },
  {
   "cell_type": "markdown",
   "metadata": {},
   "source": [
    "***\n",
    "### Task 2: Dice roller\n",
    "\n",
    "[1] stack overflow; https://stackoverflow.com/questions/60343980/rolling-2-dice-1000-times-and-counting-the-number-of-times-the-sum-of-the-two-di\n",
    "\n",
    "[2] reddit;  https://www.reddit.com/r/learnpython/comments/55zdez/putting_outcomes_of_dice_roll_in_dictionary/\n",
    "\n",
    "[3] AoPS Online;  https://artofproblemsolving.com/wiki/index.php/Basic_Programming_With_Python"
   ]
  },
  {
   "cell_type": "code",
   "execution_count": 3,
   "metadata": {},
   "outputs": [
    {
     "name": "stdout",
     "output_type": "stream",
     "text": [
      "defaultdict(<class 'int'>, {5: 103, 10: 84, 6: 149, 3: 55, 8: 115, 11: 51, 2: 28, 7: 177, 4: 91, 12: 36, 9: 111})\n"
     ]
    }
   ],
   "source": [
    "# [1]\n",
    "\n",
    "from collections import defaultdict\n",
    "from random import randint\n",
    "\n",
    "# Roll the two dice how many times?\n",
    "n = 1000\n",
    "\n",
    "# Create a dictionary to store the results\n",
    "results = defaultdict(int)\n",
    "\n",
    "# Loop n times\n",
    "for _ in range(n):\n",
    "    # Get random numbers for the two dice\n",
    "    die_1 = randint(1, 6)\n",
    "    die_2 = randint(1, 6)\n",
    "    # Increase the corresponding result by 1\n",
    "    results[die_1 + die_2] += 1\n",
    "\n",
    "# Print results\n",
    "print(results)"
   ]
  },
  {
   "cell_type": "code",
   "execution_count": 4,
   "metadata": {},
   "outputs": [
    {
     "data": {
      "text/plain": [
       "defaultdict(int,\n",
       "            {7: 99,\n",
       "             9: 84,\n",
       "             3: 91,\n",
       "             2: 113,\n",
       "             8: 82,\n",
       "             11: 80,\n",
       "             12: 95,\n",
       "             4: 90,\n",
       "             6: 88,\n",
       "             5: 92,\n",
       "             10: 86})"
      ]
     },
     "execution_count": 4,
     "metadata": {},
     "output_type": "execute_result"
    }
   ],
   "source": [
    "# [2] \n",
    "# we have two dices, k= 2\n",
    "\n",
    "import collections\n",
    "import random\n",
    "\n",
    "\n",
    "def diceroll(rolls, sides):\n",
    "    dice = defaultdict(int)\n",
    "    for x in range(rolls):\n",
    "        dice[random.randint(2, sides)] += 1\n",
    "    return(dice)\n",
    "diceroll(1000, 12)"
   ]
  },
  {
   "cell_type": "markdown",
   "metadata": {},
   "source": [
    "***"
   ]
  },
  {
   "cell_type": "markdown",
   "metadata": {},
   "source": [
    "### Task 3: binomial distribution\n",
    "\n",
    "Definition of binomial distribution: the binomial distribution is the probability distribution of a sequence of experiments where each experiment produces a binary outcome (in this exapmle, flipping a coin), and where each of the outcomes is independent of all the others.[2]\n",
    "\n",
    "\n",
    "[1] https://numpy.org/doc/stable/reference/random/generated/numpy.random.binomial.html\n",
    "\n",
    "[2] towards data science ; https://towardsdatascience.com/fun-with-the-binomial-distribution-96a5ecabf65b"
   ]
  },
  {
   "cell_type": "code",
   "execution_count": 63,
   "metadata": {
    "scrolled": true
   },
   "outputs": [
    {
     "data": {
      "text/plain": [
       "array([49, 60, 51, 45, 54, 51, 51, 57, 53, 48, 50, 57, 53, 57, 55, 47, 55,\n",
       "       51, 42, 61, 49, 44, 53, 49, 60, 44, 36, 48, 54, 48, 54, 51, 49, 51,\n",
       "       54, 41, 52, 45, 57, 51, 48, 48, 53, 50, 44, 54, 50, 41, 50, 46, 41,\n",
       "       50, 52, 45, 53, 51, 52, 57, 62, 58, 50, 50, 50, 47, 57, 44, 57, 46,\n",
       "       51, 49, 46, 53, 54, 53, 53, 41, 47, 53, 51, 50, 58, 53, 45, 61, 49,\n",
       "       49, 46, 52, 51, 48, 47, 53, 55, 48, 56, 49, 51, 42, 51, 46, 48, 53,\n",
       "       53, 53, 46, 47, 54, 45, 44, 40, 48, 55, 46, 52, 56, 57, 44, 51, 53,\n",
       "       44, 48, 56, 50, 52, 57, 55, 63, 52, 49, 48, 53, 51, 49, 54, 42, 52,\n",
       "       53, 52, 54, 52, 54, 59, 55, 57, 50, 51, 54, 52, 47, 55, 58, 52, 51,\n",
       "       59, 54, 52, 56, 55, 42, 50, 58, 56, 42, 44, 46, 51, 47, 49, 49, 54,\n",
       "       42, 47, 53, 49, 53, 45, 58, 53, 48, 59, 51, 56, 46, 47, 54, 52, 46,\n",
       "       44, 49, 52, 55, 56, 53, 47, 55, 60, 55, 42, 49, 53, 55, 54, 47, 53,\n",
       "       47, 51, 51, 41, 48, 49, 45, 47, 46, 54, 51, 43, 48, 45, 43, 47, 58,\n",
       "       48, 53, 40, 51, 45, 54, 56, 51, 53, 58, 54, 42, 42, 40, 54, 54, 44,\n",
       "       52, 51, 43, 43, 50, 49, 52, 52, 45, 45, 54, 45, 42, 56, 49, 50, 50,\n",
       "       60, 48, 44, 44, 46, 46, 53, 52, 47, 53, 46, 50, 54, 53, 54, 51, 44,\n",
       "       50, 58, 44, 48, 48, 46, 46, 45, 53, 47, 51, 54, 48, 42, 47, 58, 51,\n",
       "       39, 47, 46, 52, 52, 52, 57, 44, 52, 54, 50, 54, 48, 51, 50, 50, 54,\n",
       "       51, 52, 43, 61, 49, 47, 48, 54, 44, 51, 51, 47, 48, 56, 55, 53, 46,\n",
       "       57, 46, 52, 49, 56, 42, 55, 49, 41, 58, 43, 50, 57, 49, 54, 54, 49,\n",
       "       49, 63, 44, 59, 45, 52, 53, 54, 52, 55, 52, 50, 49, 51, 45, 47, 42,\n",
       "       50, 51, 39, 54, 57, 42, 52, 53, 39, 50, 47, 51, 55, 41, 51, 52, 46,\n",
       "       43, 53, 49, 44, 49, 54, 50, 41, 42, 43, 54, 44, 50, 49, 52, 49, 56,\n",
       "       44, 57, 51, 52, 41, 51, 58, 49, 49, 50, 45, 51, 56, 39, 46, 44, 48,\n",
       "       44, 37, 47, 52, 48, 53, 46, 41, 55, 54, 53, 43, 43, 42, 47, 52, 48,\n",
       "       52, 44, 51, 46, 42, 46, 51, 52, 50, 43, 45, 53, 42, 48, 45, 49, 46,\n",
       "       49, 47, 55, 56, 49, 51, 53, 42, 45, 53, 47, 52, 50, 51, 54, 50, 53,\n",
       "       56, 47, 58, 53, 51, 52, 46, 58, 44, 49, 53, 41, 54, 48, 52, 47, 54,\n",
       "       44, 50, 52, 51, 48, 51, 50, 45, 59, 48, 43, 42, 47, 42, 49, 51, 44,\n",
       "       51, 40, 42, 43, 51, 46, 43, 52, 46, 52, 54, 54, 54, 51, 51, 47, 51,\n",
       "       50, 46, 45, 50, 53, 50, 46, 49, 51, 44, 45, 53, 56, 55, 40, 46, 48,\n",
       "       55, 57, 58, 51, 57, 54, 49, 44, 42, 45, 56, 48, 51, 47, 47, 52, 45,\n",
       "       51, 52, 54, 56, 50, 39, 51, 48, 44, 56, 54, 54, 55, 54, 48, 51, 44,\n",
       "       56, 46, 46, 47, 48, 55, 43, 43, 43, 60, 53, 57, 58, 54, 45, 49, 52,\n",
       "       56, 47, 42, 56, 52, 52, 52, 46, 47, 55, 43, 51, 41, 48, 46, 45, 52,\n",
       "       50, 54, 54, 45, 54, 41, 53, 52, 56, 37, 58, 52, 54, 57, 48, 42, 53,\n",
       "       44, 47, 45, 55, 50, 55, 49, 52, 55, 50, 53, 40, 52, 50, 48, 50, 50,\n",
       "       49, 47, 53, 49, 45, 51, 55, 58, 55, 58, 57, 56, 49, 54, 49, 52, 44,\n",
       "       57, 57, 45, 43, 45, 56, 49, 56, 51, 52, 53, 45, 49, 57, 52, 53, 42,\n",
       "       44, 56, 60, 47, 47, 52, 50, 50, 47, 56, 53, 47, 43, 48, 52, 49, 43,\n",
       "       44, 56, 52, 47, 44, 49, 40, 56, 47, 49, 44, 42, 41, 50, 49, 55, 52,\n",
       "       48, 56, 58, 48, 44, 55, 50, 51, 47, 50, 46, 47, 41, 46, 50, 42, 39,\n",
       "       49, 55, 48, 58, 51, 50, 48, 46, 51, 44, 52, 54, 51, 45, 48, 52, 55,\n",
       "       41, 56, 50, 46, 57, 53, 49, 46, 51, 49, 52, 43, 54, 50, 47, 55, 55,\n",
       "       46, 48, 43, 48, 41, 62, 51, 46, 51, 57, 50, 47, 39, 53, 51, 50, 53,\n",
       "       54, 54, 45, 52, 47, 51, 40, 51, 46, 58, 51, 52, 49, 53, 49, 49, 46,\n",
       "       53, 44, 46, 58, 42, 51, 51, 59, 45, 42, 51, 53, 44, 49, 53, 49, 58,\n",
       "       46, 47, 58, 50, 58, 55, 55, 49, 41, 54, 49, 60, 51, 56, 54, 47, 50,\n",
       "       54, 49, 54, 47, 51, 45, 49, 49, 45, 52, 48, 55, 48, 47, 46, 52, 47,\n",
       "       51, 52, 59, 53, 49, 53, 60, 50, 45, 52, 45, 49, 49, 56, 39, 35, 53,\n",
       "       41, 54, 52, 54, 48, 58, 49, 53, 58, 51, 46, 62, 45, 43, 51, 57, 57,\n",
       "       60, 61, 45, 56, 47, 39, 55, 53, 48, 50, 53, 61, 49, 53, 43, 50, 48,\n",
       "       50, 49, 44, 46, 49, 49, 60, 47, 47, 53, 53, 53, 48, 54, 53, 48, 56,\n",
       "       55, 50, 51, 45, 45, 57, 47, 54, 50, 44, 53, 47, 47, 50, 45, 42, 46,\n",
       "       52, 51, 41, 43, 56, 43, 44, 51, 41, 50, 53, 58, 49, 58, 43, 49, 44,\n",
       "       44, 53, 61, 46, 54, 47, 50, 46, 58, 51, 47, 49, 46, 43, 60, 53, 46,\n",
       "       49, 56, 47, 48, 49, 51, 51, 49, 40, 43, 51, 45, 58, 53, 52, 51, 54,\n",
       "       51, 56, 51, 51, 54, 45, 47, 44, 49, 49, 55, 44, 52, 54, 50, 44, 45,\n",
       "       49, 49, 46, 43, 51, 54, 47, 61, 56, 52, 57, 44, 48, 63],\n",
       "      dtype=int64)"
      ]
     },
     "execution_count": 63,
     "metadata": {},
     "output_type": "execute_result"
    }
   ],
   "source": [
    "# Result of flipping a coin 100 times, tested 1000 times\n",
    "\n",
    "import numpy as np\n",
    "from numpy.random import default_rng # as per latest release of numpy package\n",
    "rng = default_rng()\n",
    "import matplotlib.pyplot as plt \n",
    "import seaborn as sns\n",
    "\n",
    "n = 100     # number of independent experiments in each trial\n",
    "p = 0.5     # probability of success for each experiment (heads or tales)\n",
    "k = 1000    # number of trials\n",
    "\n",
    "h = rng.binomial (n, p, k)\n",
    "h"
   ]
  },
  {
   "cell_type": "code",
   "execution_count": 59,
   "metadata": {},
   "outputs": [],
   "source": [
    "# Function that runs our coin toss trials\n",
    "# heads is a list of the number of successes from each trial of n experiments\n",
    "\n",
    "def run_binom(k, n, p):\n",
    "    heads = []\n",
    "    for i in range(k):\n",
    "        tosses = [rng.random() for i in range(n)]\n",
    "        heads.append(len([i for i in tosses if i>=0.50]))\n",
    "    return heads"
   ]
  },
  {
   "cell_type": "code",
   "execution_count": 60,
   "metadata": {},
   "outputs": [],
   "source": [
    "# Run the function\n",
    "heads = run_binom(k, n, p)"
   ]
  },
  {
   "cell_type": "code",
   "execution_count": 55,
   "metadata": {},
   "outputs": [
    {
     "data": {
      "image/png": "[encoded data removed]",
      "text/plain": [
       "<Figure size 1008x504 with 1 Axes>"
      ]
     },
     "metadata": {
      "needs_background": "light"
     },
     "output_type": "display_data"
    }
   ],
   "source": [
    "# Plot the results as a histogram\n",
    "fig, ax = plt.subplots(figsize=(14,7))\n",
    "ax = sns.distplot(heads, bins=11, label='simulation results')\n",
    "ax.set_xlabel(\"Number of Heads\",fontsize=16)\n",
    "ax.set_ylabel(\"Frequency\",fontsize=16)\n",
    "# Plot the actual binomial distribution as a sanity check\n",
    "from scipy.stats import binom\n",
    "x = range(0,101)\n",
    "ax.plot(x, binom.pmf(x, n, p), 'ro', label='actual binomial distribution')\n",
    "ax.vlines(x, 0, binom.pmf(x, n, p), colors='r', lw= 3, alpha=0.5)\n",
    "plt.legend()\n",
    "plt.show()"
   ]
  },
  {
   "cell_type": "code",
   "execution_count": 64,
   "metadata": {},
   "outputs": [
    {
     "data": {
      "text/plain": [
       "0.0"
      ]
     },
     "execution_count": 64,
     "metadata": {},
     "output_type": "execute_result"
    }
   ],
   "source": [
    "sum(rng.binomial(100, 0.5, 1000) == 1)/1000"
   ]
  },
  {
   "cell_type": "markdown",
   "metadata": {},
   "source": [
    "***"
   ]
  },
  {
   "cell_type": "code",
   "execution_count": null,
   "metadata": {},
   "outputs": [],
   "source": []
  }
 ],
 "metadata": {
  "kernelspec": {
   "display_name": "Python 3",
   "language": "python",
   "name": "python3"
  },
  "language_info": {
   "codemirror_mode": {
    "name": "ipython",
    "version": 3
   },
   "file_extension": ".py",
   "mimetype": "text/x-python",
   "name": "python",
   "nbconvert_exporter": "python",
   "pygments_lexer": "ipython3",
   "version": "3.8.3"
  }
 },
 "nbformat": 4,
 "nbformat_minor": 4
}
