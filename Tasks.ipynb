{
 "cells": [
  {
   "cell_type": "markdown",
   "metadata": {},
   "source": [
    "# Tasks\n",
    "\n",
    "These are my solutions to the Tasks assessment. The author is Adam S. (G00387867@gmit.ie)."
   ]
  },
  {
   "cell_type": "markdown",
   "metadata": {},
   "source": [
    "***"
   ]
  },
  {
   "cell_type": "markdown",
   "metadata": {},
   "source": [
    "### Task 1: Counts\n",
    "\n",
    "A Python function that takes a list as input and returns a dictionary of unique items in the list as keys and the number of times (frequency) each item appears as values.\n",
    "\n",
    "\n",
    "[1]  https://www.geeksforgeeks.org/counting-the-frequencies-in-a-list-using-dictionary-in-python/\n",
    "\n",
    "[2] https://stackoverflow.com/questions/3496518/using-a-dictionary-to-count-the-items-in-a-list"
   ]
  },
  {
   "cell_type": "code",
   "execution_count": 50,
   "metadata": {},
   "outputs": [
    {
     "data": {
      "text/plain": [
       "{1: 3, 5: 2, 3: 3, 4: 2, 2: 3, 'A': 2, 'B': 1, 'a': 1, 'red': 1, 25.0: 1}"
      ]
     },
     "execution_count": 50,
     "metadata": {},
     "output_type": "execute_result"
    }
   ],
   "source": [
    "# [2]\n",
    "\n",
    "items = [1, 1, 5, 5, 3, 1, 3, 3, 4, 4, 2, 2, 2, \"A\", \"A\", \"B\", \"a\", \"red\", 25.0] \n",
    "\n",
    "counts = dict()\n",
    "for i in items:\n",
    "  counts[i] = counts.get(i, 0) + 1\n",
    "\n",
    "counts"
   ]
  },
  {
   "cell_type": "code",
   "execution_count": 51,
   "metadata": {},
   "outputs": [
    {
     "name": "stdout",
     "output_type": "stream",
     "text": [
      "1  : 3 \n",
      "5  : 2 \n",
      "3  : 3 \n",
      "4  : 2 \n",
      "2  : 3 \n",
      "A  : 1 \n",
      "red  : 1 \n",
      "25.0  : 1 \n"
     ]
    }
   ],
   "source": [
    "def Count(my_list): \n",
    "\n",
    "  # Creating an empty dictionary \n",
    "  freq = {} \n",
    "  for item in my_list: \n",
    "    if (item in freq): \n",
    "      freq[item] += 1\n",
    "    else: \n",
    "      freq[item] = 1\n",
    "\n",
    "  for key, value in freq.items(): \n",
    "    print(\"%s  : %d \"%(key, value))\n",
    "  \n",
    "\n",
    "my_list =  [1, 1, 5, 5, 3, 1, 3, 3, 4, 4, 2, 2, 2, \"A\", \"red\", 25.0]\n",
    "\n",
    "Count(my_list)"
   ]
  },
  {
   "cell_type": "markdown",
   "metadata": {},
   "source": [
    "***"
   ]
  },
  {
   "cell_type": "markdown",
   "metadata": {},
   "source": [
    "<br>"
   ]
  },
  {
   "cell_type": "markdown",
   "metadata": {},
   "source": [
    "### Task 2: Dice roller\n",
    "\n",
    "[1] stack overflow; https://stackoverflow.com/questions/60343980/rolling-2-dice-1000-times-and-counting-the-number-of-times-the-sum-of-the-two-di\n",
    "\n",
    "[2] reddit;  https://www.reddit.com/r/learnpython/comments/55zdez/putting_outcomes_of_dice_roll_in_dictionary/\n",
    "\n",
    "[3] AoPS Online;  https://artofproblemsolving.com/wiki/index.php/Basic_Programming_With_Python"
   ]
  },
  {
   "cell_type": "code",
   "execution_count": 23,
   "metadata": {},
   "outputs": [
    {
     "name": "stdout",
     "output_type": "stream",
     "text": [
      "defaultdict(<class 'int'>, {2: 26, 7: 170, 9: 119, 6: 146, 11: 58, 5: 114, 10: 71, 8: 135, 4: 84, 3: 50, 12: 27})\n"
     ]
    }
   ],
   "source": [
    "# [1]\n",
    "\n",
    "from collections import defaultdict\n",
    "from random import randint\n",
    "\n",
    "# Roll the two dice how many times?\n",
    "n = 1000\n",
    "\n",
    "# Create a dictionary to store the results\n",
    "results = defaultdict(int)\n",
    "\n",
    "# Loop n times\n",
    "for _ in range(n):\n",
    "    # Get random numbers for the two dice\n",
    "    die_1 = randint(1, 6)\n",
    "    die_2 = randint(1, 6)\n",
    "    # Increase the corresponding result by 1\n",
    "    results[die_1 + die_2] += 1\n",
    "\n",
    "# Print results\n",
    "print(results)"
   ]
  },
  {
   "cell_type": "code",
   "execution_count": 48,
   "metadata": {},
   "outputs": [
    {
     "data": {
      "text/plain": [
       "defaultdict(int,\n",
       "            {3: 100,\n",
       "             4: 90,\n",
       "             2: 109,\n",
       "             7: 93,\n",
       "             6: 85,\n",
       "             11: 106,\n",
       "             5: 78,\n",
       "             8: 96,\n",
       "             9: 84,\n",
       "             10: 76,\n",
       "             12: 83})"
      ]
     },
     "execution_count": 48,
     "metadata": {},
     "output_type": "execute_result"
    }
   ],
   "source": [
    "# [2] \n",
    "# we have two dices, k= 2\n",
    "\n",
    "import collections\n",
    "import random\n",
    "\n",
    "\n",
    "def diceroll(rolls, sides):\n",
    "    dice = defaultdict(int)\n",
    "    for x in range(rolls):\n",
    "        dice[random.randint(2, sides)] += 1\n",
    "    return(dice)\n",
    "diceroll(1000, 12)"
   ]
  },
  {
   "cell_type": "code",
   "execution_count": null,
   "metadata": {},
   "outputs": [],
   "source": [
    "# [3]\n",
    "\n",
    "import random\n",
    "count = 0\n",
    "\n",
    "def roll():\n",
    "    return random.randint(1,6)\n",
    "\n",
    "for i in range(1, 1001):\n",
    "    if roll() == 6:\n",
    "        count += 1"
   ]
  },
  {
   "cell_type": "code",
   "execution_count": null,
   "metadata": {},
   "outputs": [],
   "source": []
  }
 ],
 "metadata": {
  "kernelspec": {
   "display_name": "Python 3",
   "language": "python",
   "name": "python3"
  },
  "language_info": {
   "codemirror_mode": {
    "name": "ipython",
    "version": 3
   },
   "file_extension": ".py",
   "mimetype": "text/x-python",
   "name": "python",
   "nbconvert_exporter": "python",
   "pygments_lexer": "ipython3",
   "version": "3.8.3"
  }
 },
 "nbformat": 4,
 "nbformat_minor": 4
}
