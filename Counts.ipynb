{
 "cells": [
  {
   "cell_type": "markdown",
   "metadata": {},
   "source": [
    "# Tasks\n",
    "\n",
    "These are my solutions to the Tasks assessment. The author is Adam S. (G00387867@gmit.ie)."
   ]
  },
  {
   "cell_type": "code",
   "execution_count": null,
   "metadata": {},
   "outputs": [],
   "source": []
  },
  {
   "cell_type": "markdown",
   "metadata": {},
   "source": [
    "### Task 1: Counts\n",
    "\n",
    "A Python function that takes a list as input and returns a dictionary of unique items in the list as keys and the number of times (frequency) each item appears as values.\n",
    "\n",
    "\n",
    "[1]  https://www.geeksforgeeks.org/counting-the-frequencies-in-a-list-using-dictionary-in-python/\n",
    "\n",
    "[2] https://stackoverflow.com/questions/3496518/using-a-dictionary-to-count-the-items-in-a-list"
   ]
  },
  {
   "cell_type": "code",
   "execution_count": 50,
   "metadata": {},
   "outputs": [
    {
     "data": {
      "text/plain": [
       "{1: 3, 5: 2, 3: 3, 4: 2, 2: 3, 'A': 2, 'B': 1, 'a': 1, 'red': 1, 25.0: 1}"
      ]
     },
     "execution_count": 50,
     "metadata": {},
     "output_type": "execute_result"
    }
   ],
   "source": [
    "# [2]\n",
    "\n",
    "items = [1, 1, 5, 5, 3, 1, 3, 3, 4, 4, 2, 2, 2, \"A\", \"A\", \"B\", \"a\", \"red\", 25.0] \n",
    "\n",
    "counts = dict()\n",
    "for i in items:\n",
    "  counts[i] = counts.get(i, 0) + 1\n",
    "\n",
    "counts"
   ]
  },
  {
   "cell_type": "code",
   "execution_count": 51,
   "metadata": {},
   "outputs": [
    {
     "name": "stdout",
     "output_type": "stream",
     "text": [
      "1  : 3 \n",
      "5  : 2 \n",
      "3  : 3 \n",
      "4  : 2 \n",
      "2  : 3 \n",
      "A  : 1 \n",
      "red  : 1 \n",
      "25.0  : 1 \n"
     ]
    }
   ],
   "source": [
    "def Count(my_list): \n",
    "\n",
    "  # Creating an empty dictionary \n",
    "  freq = {} \n",
    "  for item in my_list: \n",
    "    if (item in freq): \n",
    "      freq[item] += 1\n",
    "    else: \n",
    "      freq[item] = 1\n",
    "\n",
    "  for key, value in freq.items(): \n",
    "    print(\"%s  : %d \"%(key, value))\n",
    "  \n",
    "\n",
    "my_list =  [1, 1, 5, 5, 3, 1, 3, 3, 4, 4, 2, 2, 2, \"A\", \"red\", 25.0]\n",
    "\n",
    "Count(my_list)"
   ]
  },
  {
   "cell_type": "code",
   "execution_count": null,
   "metadata": {},
   "outputs": [],
   "source": []
  },
  {
   "cell_type": "code",
   "execution_count": null,
   "metadata": {},
   "outputs": [],
   "source": []
  }
 ],
 "metadata": {
  "kernelspec": {
   "display_name": "Python 3",
   "language": "python",
   "name": "python3"
  },
  "language_info": {
   "codemirror_mode": {
    "name": "ipython",
    "version": 3
   },
   "file_extension": ".py",
   "mimetype": "text/x-python",
   "name": "python",
   "nbconvert_exporter": "python",
   "pygments_lexer": "ipython3",
   "version": "3.8.3"
  }
 },
 "nbformat": 4,
 "nbformat_minor": 4
}
